{
 "cells": [
  {
   "cell_type": "code",
   "execution_count": 1,
   "metadata": {},
   "outputs": [],
   "source": [
    "import numpy as np"
   ]
  },
  {
   "cell_type": "code",
   "execution_count": 2,
   "metadata": {},
   "outputs": [
    {
     "data": {
      "text/plain": [
       "'\\nConvolution class using zero padding\\n\\nparam input_num - numbers of input feature maps/images \\nparam input_size - input feature maps/images size\\nparam filter_size - size of the filter/kernel\\nparam output_num - numbers of output feature maps/images \\nparam stride - moving step of the kernel function\\n'"
      ]
     },
     "execution_count": 2,
     "metadata": {},
     "output_type": "execute_result"
    }
   ],
   "source": [
    "'''\n",
    "Convolution class using zero padding\n",
    "\n",
    "param input_num - numbers of input feature maps/images \n",
    "param input_size - input feature maps/images size\n",
    "param filter_size - size of the filter/kernel\n",
    "param output_num - numbers of output feature maps/images \n",
    "param stride - moving step of the kernel function\n",
    "'''\n",
    "    "
   ]
  },
  {
   "cell_type": "code",
   "execution_count": 3,
   "metadata": {},
   "outputs": [],
   "source": [
    "# Test parameters\n",
    "input_num = 4\n",
    "input_size = 5\n",
    "filter_size = 3\n",
    "output_num = 3\n",
    "stride = 2"
   ]
  },
  {
   "cell_type": "code",
   "execution_count": 4,
   "metadata": {},
   "outputs": [],
   "source": [
    "# Check if the parameters of input size, filter size, stride is legel\n",
    "output_size = (input_size + stride - filter_size) / stride\n",
    "if(output_size%1 != 0):\n",
    "    print(\"Invalid !\");"
   ]
  },
  {
   "cell_type": "code",
   "execution_count": 5,
   "metadata": {
    "scrolled": true
   },
   "outputs": [
    {
     "name": "stdout",
     "output_type": "stream",
     "text": [
      "[[[ 0.  1.  2.  3.  4.]\n",
      "  [ 5.  6.  7.  8.  9.]\n",
      "  [10. 11. 12. 13. 14.]\n",
      "  [15. 16. 17. 18. 19.]\n",
      "  [20. 21. 22. 23. 24.]]\n",
      "\n",
      " [[25. 26. 27. 28. 29.]\n",
      "  [30. 31. 32. 33. 34.]\n",
      "  [35. 36. 37. 38. 39.]\n",
      "  [40. 41. 42. 43. 44.]\n",
      "  [45. 46. 47. 48. 49.]]\n",
      "\n",
      " [[50. 51. 52. 53. 54.]\n",
      "  [55. 56. 57. 58. 59.]\n",
      "  [60. 61. 62. 63. 64.]\n",
      "  [65. 66. 67. 68. 69.]\n",
      "  [70. 71. 72. 73. 74.]]\n",
      "\n",
      " [[75. 76. 77. 78. 79.]\n",
      "  [80. 81. 82. 83. 84.]\n",
      "  [85. 86. 87. 88. 89.]\n",
      "  [90. 91. 92. 93. 94.]\n",
      "  [95. 96. 97. 98. 99.]]]\n",
      "(200, 40, 8)\n"
     ]
    }
   ],
   "source": [
    "b = np.arange(input_num*input_size*input_size, dtype=np.float).reshape(input_num,input_size,input_size)\n",
    "print(b)\n",
    "print(b.strides)\n",
    "if b.shape!= (input_num,input_size,input_size):\n",
    "    print(\"Invalid Input !\")"
   ]
  },
  {
   "cell_type": "code",
   "execution_count": 6,
   "metadata": {
    "scrolled": true
   },
   "outputs": [
    {
     "name": "stdout",
     "output_type": "stream",
     "text": [
      "[[[[[ 0.  1.  2.]\n",
      "    [ 5.  6.  7.]\n",
      "    [10. 11. 12.]]\n",
      "\n",
      "   [[ 2.  3.  4.]\n",
      "    [ 7.  8.  9.]\n",
      "    [12. 13. 14.]]]\n",
      "\n",
      "\n",
      "  [[[10. 11. 12.]\n",
      "    [15. 16. 17.]\n",
      "    [20. 21. 22.]]\n",
      "\n",
      "   [[12. 13. 14.]\n",
      "    [17. 18. 19.]\n",
      "    [22. 23. 24.]]]]\n",
      "\n",
      "\n",
      "\n",
      " [[[[25. 26. 27.]\n",
      "    [30. 31. 32.]\n",
      "    [35. 36. 37.]]\n",
      "\n",
      "   [[27. 28. 29.]\n",
      "    [32. 33. 34.]\n",
      "    [37. 38. 39.]]]\n",
      "\n",
      "\n",
      "  [[[35. 36. 37.]\n",
      "    [40. 41. 42.]\n",
      "    [45. 46. 47.]]\n",
      "\n",
      "   [[37. 38. 39.]\n",
      "    [42. 43. 44.]\n",
      "    [47. 48. 49.]]]]\n",
      "\n",
      "\n",
      "\n",
      " [[[[50. 51. 52.]\n",
      "    [55. 56. 57.]\n",
      "    [60. 61. 62.]]\n",
      "\n",
      "   [[52. 53. 54.]\n",
      "    [57. 58. 59.]\n",
      "    [62. 63. 64.]]]\n",
      "\n",
      "\n",
      "  [[[60. 61. 62.]\n",
      "    [65. 66. 67.]\n",
      "    [70. 71. 72.]]\n",
      "\n",
      "   [[62. 63. 64.]\n",
      "    [67. 68. 69.]\n",
      "    [72. 73. 74.]]]]\n",
      "\n",
      "\n",
      "\n",
      " [[[[75. 76. 77.]\n",
      "    [80. 81. 82.]\n",
      "    [85. 86. 87.]]\n",
      "\n",
      "   [[77. 78. 79.]\n",
      "    [82. 83. 84.]\n",
      "    [87. 88. 89.]]]\n",
      "\n",
      "\n",
      "  [[[85. 86. 87.]\n",
      "    [90. 91. 92.]\n",
      "    [95. 96. 97.]]\n",
      "\n",
      "   [[87. 88. 89.]\n",
      "    [92. 93. 94.]\n",
      "    [97. 98. 99.]]]]]\n",
      "(4, 2, 2, 3, 3)\n"
     ]
    }
   ],
   "source": [
    "img_shape = (int(input_num),int(output_size),int(output_size),int(filter_size),int(filter_size))\n",
    "img_strides = (int(input_size*input_size*8), int(input_size*stride*8), int(stride*8), int(input_size*8), 8)\n",
    "A = np.lib.stride_tricks.as_strided(b, shape=img_shape, strides=img_strides)       # Cut the image with kernel size\n",
    "print(A)\n",
    "print(A.shape)\n",
    "\n",
    "\n",
    "# A = A.reshape(int(input_num),int(output_size),int(output_size),int(filter_size*filter_size))     # reshape to one dimention in each kernel\n",
    "# A = np.insert(A, int(filter_size*filter_size), 1, axis=3)     # Append Bias"
   ]
  },
  {
   "cell_type": "code",
   "execution_count": 7,
   "metadata": {
    "scrolled": true
   },
   "outputs": [
    {
     "name": "stdout",
     "output_type": "stream",
     "text": [
      "[[[[  0.   1.   2.]\n",
      "   [  3.   4.   5.]\n",
      "   [  6.   7.   8.]]\n",
      "\n",
      "  [[  9.  10.  11.]\n",
      "   [ 12.  13.  14.]\n",
      "   [ 15.  16.  17.]]\n",
      "\n",
      "  [[ 18.  19.  20.]\n",
      "   [ 21.  22.  23.]\n",
      "   [ 24.  25.  26.]]\n",
      "\n",
      "  [[ 27.  28.  29.]\n",
      "   [ 30.  31.  32.]\n",
      "   [ 33.  34.  35.]]]\n",
      "\n",
      "\n",
      " [[[ 36.  37.  38.]\n",
      "   [ 39.  40.  41.]\n",
      "   [ 42.  43.  44.]]\n",
      "\n",
      "  [[ 45.  46.  47.]\n",
      "   [ 48.  49.  50.]\n",
      "   [ 51.  52.  53.]]\n",
      "\n",
      "  [[ 54.  55.  56.]\n",
      "   [ 57.  58.  59.]\n",
      "   [ 60.  61.  62.]]\n",
      "\n",
      "  [[ 63.  64.  65.]\n",
      "   [ 66.  67.  68.]\n",
      "   [ 69.  70.  71.]]]\n",
      "\n",
      "\n",
      " [[[ 72.  73.  74.]\n",
      "   [ 75.  76.  77.]\n",
      "   [ 78.  79.  80.]]\n",
      "\n",
      "  [[ 81.  82.  83.]\n",
      "   [ 84.  85.  86.]\n",
      "   [ 87.  88.  89.]]\n",
      "\n",
      "  [[ 90.  91.  92.]\n",
      "   [ 93.  94.  95.]\n",
      "   [ 96.  97.  98.]]\n",
      "\n",
      "  [[ 99. 100. 101.]\n",
      "   [102. 103. 104.]\n",
      "   [105. 106. 107.]]]]\n",
      "[0. 1. 2.]\n",
      "(3, 2, 2)\n",
      "[[[ 37914.  39174.]\n",
      "  [ 44214.  45474.]]\n",
      "\n",
      " [[ 94291.  98143.]\n",
      "  [113551. 117403.]]\n",
      "\n",
      " [[150668. 157112.]\n",
      "  [182888. 189332.]]]\n"
     ]
    }
   ],
   "source": [
    "# kernel = np.arange(output_num*input_num*filter_size*filter_size, dtype=np.float).reshape(output_num,input_num,filter_size,filter_size)\n",
    "kernel = np.arange(output_num*input_num*filter_size*filter_size, dtype=np.float).reshape(output_num,input_num,filter_size,filter_size)\n",
    "bias = np.arange(output_num, dtype=np.float)\n",
    "print(kernel)\n",
    "print(bias)\n",
    "# print(kernel)\n",
    "m = np.einsum(\"ijklm,ailm->ajk\", A, kernel)\n",
    "for i in range(output_num):\n",
    "    m[i] = m[i] + bias[i]\n",
    "# m = np.add(m,bias)\n",
    "# m = np.einsum(\"ijklm,lm\", A_n, kernel)\n",
    "print(m.shape)\n",
    "print(m)"
   ]
  },
  {
   "cell_type": "code",
   "execution_count": 14,
   "metadata": {},
   "outputs": [
    {
     "name": "stdout",
     "output_type": "stream",
     "text": [
      "[[[ 37914.  39174.]\n",
      "  [ 44214.  45474.]]\n",
      "\n",
      " [[ 94291.  98143.]\n",
      "  [113551. 117403.]]\n",
      "\n",
      " [[150668. 157112.]\n",
      "  [182888. 189332.]]]\n"
     ]
    }
   ],
   "source": [
    "error = np.ones(m.shape)\n",
    "error2 = m\n",
    "print(error * error2)"
   ]
  },
  {
   "cell_type": "code",
   "execution_count": 9,
   "metadata": {
    "scrolled": false
   },
   "outputs": [
    {
     "name": "stdout",
     "output_type": "stream",
     "text": [
      "[[[ 0.  1.  2.  3.  4.]\n",
      "  [ 5.  6.  7.  8.  9.]\n",
      "  [10. 11. 12. 13. 14.]\n",
      "  [15. 16. 17. 18. 19.]\n",
      "  [20. 21. 22. 23. 24.]]\n",
      "\n",
      " [[25. 26. 27. 28. 29.]\n",
      "  [30. 31. 32. 33. 34.]\n",
      "  [35. 36. 37. 38. 39.]\n",
      "  [40. 41. 42. 43. 44.]\n",
      "  [45. 46. 47. 48. 49.]]\n",
      "\n",
      " [[50. 51. 52. 53. 54.]\n",
      "  [55. 56. 57. 58. 59.]\n",
      "  [60. 61. 62. 63. 64.]\n",
      "  [65. 66. 67. 68. 69.]\n",
      "  [70. 71. 72. 73. 74.]]\n",
      "\n",
      " [[75. 76. 77. 78. 79.]\n",
      "  [80. 81. 82. 83. 84.]\n",
      "  [85. 86. 87. 88. 89.]\n",
      "  [90. 91. 92. 93. 94.]\n",
      "  [95. 96. 97. 98. 99.]]]\n",
      "[[[108. 111. 222. 111. 114.]\n",
      "  [117. 120. 240. 120. 123.]\n",
      "  [234. 240. 480. 240. 246.]\n",
      "  [117. 120. 240. 120. 123.]\n",
      "  [126. 129. 258. 129. 132.]]\n",
      "\n",
      " [[135. 138. 276. 138. 141.]\n",
      "  [144. 147. 294. 147. 150.]\n",
      "  [288. 294. 588. 294. 300.]\n",
      "  [144. 147. 294. 147. 150.]\n",
      "  [153. 156. 312. 156. 159.]]\n",
      "\n",
      " [[162. 165. 330. 165. 168.]\n",
      "  [171. 174. 348. 174. 177.]\n",
      "  [342. 348. 696. 348. 354.]\n",
      "  [171. 174. 348. 174. 177.]\n",
      "  [180. 183. 366. 183. 186.]]\n",
      "\n",
      " [[189. 192. 384. 192. 195.]\n",
      "  [198. 201. 402. 201. 204.]\n",
      "  [396. 402. 804. 402. 408.]\n",
      "  [198. 201. 402. 201. 204.]\n",
      "  [207. 210. 420. 210. 213.]]]\n",
      "[[[[ 24.  28.  32.]\n",
      "   [ 44.  48.  52.]\n",
      "   [ 64.  68.  72.]]\n",
      "\n",
      "  [[124. 128. 132.]\n",
      "   [144. 148. 152.]\n",
      "   [164. 168. 172.]]\n",
      "\n",
      "  [[224. 228. 232.]\n",
      "   [244. 248. 252.]\n",
      "   [264. 268. 272.]]\n",
      "\n",
      "  [[324. 328. 332.]\n",
      "   [344. 348. 352.]\n",
      "   [364. 368. 372.]]]\n",
      "\n",
      "\n",
      " [[[ 24.  28.  32.]\n",
      "   [ 44.  48.  52.]\n",
      "   [ 64.  68.  72.]]\n",
      "\n",
      "  [[124. 128. 132.]\n",
      "   [144. 148. 152.]\n",
      "   [164. 168. 172.]]\n",
      "\n",
      "  [[224. 228. 232.]\n",
      "   [244. 248. 252.]\n",
      "   [264. 268. 272.]]\n",
      "\n",
      "  [[324. 328. 332.]\n",
      "   [344. 348. 352.]\n",
      "   [364. 368. 372.]]]\n",
      "\n",
      "\n",
      " [[[ 24.  28.  32.]\n",
      "   [ 44.  48.  52.]\n",
      "   [ 64.  68.  72.]]\n",
      "\n",
      "  [[124. 128. 132.]\n",
      "   [144. 148. 152.]\n",
      "   [164. 168. 172.]]\n",
      "\n",
      "  [[224. 228. 232.]\n",
      "   [244. 248. 252.]\n",
      "   [264. 268. 272.]]\n",
      "\n",
      "  [[324. 328. 332.]\n",
      "   [344. 348. 352.]\n",
      "   [364. 368. 372.]]]]\n"
     ]
    }
   ],
   "source": [
    "# \n",
    "delta_b = np.zeros((input_num, input_size, input_size), dtype=np.float)\n",
    "delta_w = np.zeros((output_num,input_num,filter_size,filter_size), dtype=np.float)\n",
    "for img_h in range(len(error[0])):\n",
    "    for img_w in range(len(error[0][0])):\n",
    "        left_corner_h = img_h * stride\n",
    "        left_corner_w = img_w * stride\n",
    "        for feature in range(len(error)):\n",
    "            delta_b[:,left_corner_h:(left_corner_h+filter_size),left_corner_w:(left_corner_w+filter_size)] += kernel[feature] * error[feature][img_h][img_w]\n",
    "            delta_w[feature][:] += b[:,left_corner_h:(left_corner_h+filter_size),left_corner_w:(left_corner_w+filter_size)] * error[feature][img_h][img_w]\n",
    "\n",
    "print(b)\n",
    "print(delta_b)\n",
    "print(delta_w)"
   ]
  },
  {
   "cell_type": "code",
   "execution_count": null,
   "metadata": {},
   "outputs": [],
   "source": []
  },
  {
   "cell_type": "code",
   "execution_count": 10,
   "metadata": {},
   "outputs": [
    {
     "name": "stdout",
     "output_type": "stream",
     "text": [
      "2\n"
     ]
    }
   ],
   "source": [
    "# a = np.array([1, 2, 3])\n",
    "# b = np.array([2, 3, 4])\n",
    "# c = np.array([3, 4, 5])\n",
    "print(int(5/2))"
   ]
  },
  {
   "cell_type": "code",
   "execution_count": 11,
   "metadata": {
    "scrolled": true
   },
   "outputs": [
    {
     "name": "stdout",
     "output_type": "stream",
     "text": [
      "[[[[-0.29194739  0.22644032  0.2685401 ]\n",
      "   [ 0.26467858 -0.0098676   0.32350612]\n",
      "   [-0.24338977 -0.32731132  0.20255714]]\n",
      "\n",
      "  [[ 0.12594621 -0.11099998 -0.08426123]\n",
      "   [ 0.01988411 -0.30991283  0.01325068]\n",
      "   [-0.05404398  0.44587106 -0.20928203]]\n",
      "\n",
      "  [[-0.02456025  0.1194065  -0.43439483]\n",
      "   [-0.5290554   0.29755186  0.13255597]\n",
      "   [-0.3325178   0.60380419  0.05456403]]\n",
      "\n",
      "  [[-0.90515867  0.2416779  -0.32715772]\n",
      "   [ 0.31804141 -0.11335192 -0.75436731]\n",
      "   [-0.82446563  0.22621014  0.03363391]]]\n",
      "\n",
      "\n",
      " [[[-0.30203088  0.37888896 -0.17135454]\n",
      "   [ 0.09211025  0.34505802 -0.09757984]\n",
      "   [ 0.24769464  0.02162588  0.56571379]]\n",
      "\n",
      "  [[ 0.08018809 -0.34870918 -0.02303904]\n",
      "   [-0.28288698 -1.11027012  0.44167385]\n",
      "   [-0.16183811  0.28404843  0.27529213]]\n",
      "\n",
      "  [[-0.05566486  0.05988651  0.19409303]\n",
      "   [-0.19102447  0.20490464  0.0202142 ]\n",
      "   [ 0.02505173  0.12911134  0.59035875]]\n",
      "\n",
      "  [[ 0.09679801  0.01924823  0.2750486 ]\n",
      "   [ 0.1125727  -0.20991747 -0.05061581]\n",
      "   [-0.00524669  0.24013042  0.31770866]]]\n",
      "\n",
      "\n",
      " [[[-0.00987246  0.21143032 -0.29098617]\n",
      "   [-0.50615107 -0.44070401  0.24665614]\n",
      "   [-0.2151734   0.26785336 -0.26631139]]\n",
      "\n",
      "  [[-0.38888186  0.54167512 -0.09560159]\n",
      "   [-0.43351764  0.10981984 -0.07188624]\n",
      "   [-0.20397105  0.09971386 -0.38528367]]\n",
      "\n",
      "  [[ 0.16961779  0.24329628  0.07598342]\n",
      "   [ 0.14954589  0.33737685 -0.16462249]\n",
      "   [ 0.1794501  -0.34278697 -0.02063334]]\n",
      "\n",
      "  [[-0.26618235 -0.24173639 -0.06282157]\n",
      "   [ 0.09823587 -0.21666672  0.00409942]\n",
      "   [ 0.12189219 -0.41269514  0.76786341]]]]\n"
     ]
    }
   ],
   "source": [
    "\n",
    "kernel = np.random.randn(output_num,input_num,filter_size,filter_size) / np.sqrt(filter_size*filter_size)\n",
    "print(kernel)"
   ]
  }
 ],
 "metadata": {
  "kernelspec": {
   "display_name": "Python 3",
   "language": "python",
   "name": "python3"
  },
  "language_info": {
   "codemirror_mode": {
    "name": "ipython",
    "version": 3
   },
   "file_extension": ".py",
   "mimetype": "text/x-python",
   "name": "python",
   "nbconvert_exporter": "python",
   "pygments_lexer": "ipython3",
   "version": "3.7.3"
  }
 },
 "nbformat": 4,
 "nbformat_minor": 4
}
